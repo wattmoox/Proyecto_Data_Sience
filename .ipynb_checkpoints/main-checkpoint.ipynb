{
 "cells": [
  {
   "cell_type": "markdown",
   "metadata": {
    "vscode": {
     "languageId": "html"
    }
   },
   "source": [
    "# <img style=\"float: left; padding-right: 20px; width: 200px\" src=\"https://raw.githubusercontent.com/raxlab/imt2200-data/main/media/logo.jpg\">  IMT 2200 - Introducción a Ciencia de Datos\n",
    "**Pontificia Universidad Católica de Chile**<br>\n",
    "**Instituto de Ingeniería Matemática y Computacional**<br>\n",
    "**Semestre 2024-S2**<br>\n",
    "**Profesor:** Rodrigo A. Carrasco <br>\n",
    "**Integrantes:** Diego Olivares, Amelie Ramirez y Zhibin Xue <br>"
   ]
  },
  {
   "cell_type": "markdown",
   "metadata": {},
   "source": [
    "# <h1><center>Análisis de Tendencias en Videos Musicales de YouTube: Patrones que Influyen en el Éxito de los Videos Musicales</center></h1>"
   ]
  },
  {
   "cell_type": "markdown",
   "metadata": {},
   "source": [
    "## Introducción"
   ]
  },
  {
   "cell_type": "markdown",
   "metadata": {},
   "source": [
    "Debido a la gran cantidad de información extraida se tomó la decisión de crear tres ``noteboks`` distintos para la recolección de datos estos se guardaran en la carpeta ``data/`` al igual que la información recolectada:\n",
    "\n",
    "Estos se tienen que ejecutar en este orden:\n",
    "1. ``youtube.ipynb``\n",
    "2. ``spotify.ipynb``\n",
    "3. ``last.fm.ipynb``"
   ]
  },
  {
   "cell_type": "markdown",
   "metadata": {},
   "source": [
    "## Imports"
   ]
  },
  {
   "cell_type": "code",
   "execution_count": 1,
   "metadata": {},
   "outputs": [],
   "source": [
    "import os\n",
    "import pandas as pd\n",
    "import seaborn as sns"
   ]
  },
  {
   "cell_type": "markdown",
   "metadata": {},
   "source": [
    "## Contexto y motivación"
   ]
  },
  {
   "cell_type": "markdown",
   "metadata": {},
   "source": [
    "En el contexto de la gran era de la digitalización, la humanidad ha creado nuevos inventos que transforman la manera en que se consume la música. Hoy en día, escuchar música a través de aparatos electrónicos como celulares, computadoras y radios se ha convertido en una práctica común y accesible. Este avance ha propiciado el surgimiento de nuevas formas de interacción y personalización para los usuarios.\n",
    "\n",
    "Entre estas aplicaciones se encuentra *Spotify*, una plataforma de streaming de música que ofrece una experiencia única y personalizada. Spotify permite a sus usuarios crear y escuchar playlists adaptadas a sus gustos, gracias a algoritmos avanzados que analizan las preferencias musicales y sugieren nuevas canciones basándose en los patrones de escucha. Su capacidad para ofrecer este tipo de productos ha hecho que destaque como una de las aplicaciones más populares a nivel mundial.\n",
    "\n",
    "Por otro lado, *YouTube* es conocida como una de las plataformas de videos más influyentes del mundo. Originalmente fue creada con el objetivo de compartir videos de diferentes tipos, pero se ha adaptado al contenido musical. Emplea un sofisticado algoritmo que sugiere contenido relevante a sus usuarios, creando una experiencia individualizada y adaptada a sus intereses. Esto la convierte en una herramienta clave para descubrir nuevos artistas.\n",
    "\n",
    "Por último, *Last.fm* se presenta como una red social con un enfoque exclusivo en la música. Utilizando su sistema de 'scrobbling', registra las canciones que los usuarios escuchan en diversas plataformas para futuras recomendaciones. Esta facilita la interacción entre personas con gustos similares y proporciona estadísticas sobre las preferencias de los usuarios.\n",
    "\n",
    "Estos desarrollos representan un avance significativo en la digitalización musical, ayudando a los artistas a alcanzar un reconocimiento de talla mundial. Pero, ¿qué es lo que define un éxito mundial? La música, acompañante constante de la humanidad a través de las épocas, sigue usando elementos similares como el ritmo, la letra y las tonalidades. Sin embargo, solo unas pocas melodías logran sobresalir y convertirse en fenómenos globales. Entonces, ¿qué parámetros determinan el éxito de una canción?\n",
    "\n",
    "Al unir estas ideas - el uso de las aplicaciones y las preguntas sobre qué hace que una canción sea famosa - podemos adoptar un enfoque basado en el análisis de datos para investigar estos casos. Así surge nuestro proyecto: identificar, a través de las API de las aplicaciones antes mencionadas, los factores que contribuyen a que una canción se convierta en un hit mundial. Queremos explorar si existe alguna relación entre las canciones más populares, determinar patrones en sus lanzamientos y responder otras preguntas clave.\n",
    "\n",
    "La motivación detrás de esto es ofrecer información valiosa a artistas y productoras musicales que buscan maximizar el alcance de sus lanzamientos. Pequeñas acciones de marketing, como elegir etiquetas adecuadas, seleccionar el horario y la fecha de lanzamiento más efectivos, entre otros factores, pueden hacer la diferencia en el éxito de una canción. Nuestra investigación tiene como objetivo proporcionar estos aportes y contribuir al crecimiento del panorama musical en la era digital."
   ]
  },
  {
   "cell_type": "markdown",
   "metadata": {},
   "source": [
    "## Preguntas objetivo"
   ]
  },
  {
   "cell_type": "markdown",
   "metadata": {},
   "source": [
    "De las preguntas originales, se pudieron responder las siguientes:\n",
    "\n",
    "1. ¿Qué características de los videos están más correlacionadas con un mayor número de visualizaciones? (likes, comentarios y etiquetas)\n",
    "\n",
    "2. ¿La popularidad de una canción en otras plataformas como Spotify o Last.fm precede a su éxito en YouTube?\n",
    "\n",
    "3. ¿Qué géneros musicales generan más interacciones en YouTube, y cómo esto se relaciona con las tendencias de escucha en Spotify o Last.fm?\n",
    "\n",
    "4. ¿Cuál es la relación entre el número de visualizaciones en YouTube y la popularidad en Spotify? ¿A qué se debe?\n",
    "\n",
    "5. ¿Cómo varía la tendencia de videos populares según la región?¿Y cómo esto refleja la cultura musical del país?\n",
    "\n",
    "6. ¿Hay patrones de días u horarios en que se suben los videos más exitosos?\n",
    "\n",
    "Las nueas preguntas que surgieron son:\n",
    "\n",
    "1. ¿Qué categorias están más relacionadas entre si?\n",
    "\n",
    "2. ¿Se puede hacer un modelo para predecir que tan popular será una canción en spotify en base a su éxito en Youtube?"
   ]
  },
  {
   "cell_type": "markdown",
   "metadata": {},
   "source": [
    "## Análisis exploratorio de datos"
   ]
  },
  {
   "cell_type": "markdown",
   "metadata": {},
   "source": [
    "### 1. ¿Qué características de los videos están más correlacionadas con un mayor número de visualizaciones? (likes, comentarios y etiquetas)"
   ]
  },
  {
   "cell_type": "code",
   "execution_count": 2,
   "metadata": {},
   "outputs": [
    {
     "data": {
      "text/html": [
       "<div>\n",
       "<style scoped>\n",
       "    .dataframe tbody tr th:only-of-type {\n",
       "        vertical-align: middle;\n",
       "    }\n",
       "\n",
       "    .dataframe tbody tr th {\n",
       "        vertical-align: top;\n",
       "    }\n",
       "\n",
       "    .dataframe thead th {\n",
       "        text-align: right;\n",
       "    }\n",
       "</style>\n",
       "<table border=\"1\" class=\"dataframe\">\n",
       "  <thead>\n",
       "    <tr style=\"text-align: right;\">\n",
       "      <th></th>\n",
       "      <th>Titulo</th>\n",
       "      <th>Vistas</th>\n",
       "      <th>Likes</th>\n",
       "      <th>Comentarios</th>\n",
       "      <th>Fecha</th>\n",
       "      <th>Tags</th>\n",
       "    </tr>\n",
       "  </thead>\n",
       "  <tbody>\n",
       "    <tr>\n",
       "      <th>0</th>\n",
       "      <td>KAROL G, Feid, DFZM ft. Ovy On The Drums, J Ba...</td>\n",
       "      <td>15598352</td>\n",
       "      <td>883849</td>\n",
       "      <td>73874</td>\n",
       "      <td>2024-11-08T00:00:06Z</td>\n",
       "      <td>['#57']</td>\n",
       "    </tr>\n",
       "    <tr>\n",
       "      <th>1</th>\n",
       "      <td>YoungBoy Never Broke Again - Sneaking [Officia...</td>\n",
       "      <td>1029066</td>\n",
       "      <td>75819</td>\n",
       "      <td>3901</td>\n",
       "      <td>2024-11-08T03:41:23Z</td>\n",
       "      <td>[]</td>\n",
       "    </tr>\n",
       "    <tr>\n",
       "      <th>2</th>\n",
       "      <td>YoungBoy Never Broke Again - Killa Season [Off...</td>\n",
       "      <td>1164882</td>\n",
       "      <td>81449</td>\n",
       "      <td>4392</td>\n",
       "      <td>2024-11-08T04:16:17Z</td>\n",
       "      <td>[]</td>\n",
       "    </tr>\n",
       "    <tr>\n",
       "      <th>3</th>\n",
       "      <td>YoungBoy Never Broke Again - Missing Everythin...</td>\n",
       "      <td>1132351</td>\n",
       "      <td>86119</td>\n",
       "      <td>6341</td>\n",
       "      <td>2024-11-08T02:20:12Z</td>\n",
       "      <td>[]</td>\n",
       "    </tr>\n",
       "    <tr>\n",
       "      <th>4</th>\n",
       "      <td>YoungBoy Never Broke Again - Catch Me [Officia...</td>\n",
       "      <td>812399</td>\n",
       "      <td>55568</td>\n",
       "      <td>2963</td>\n",
       "      <td>2024-11-08T02:20:09Z</td>\n",
       "      <td>[]</td>\n",
       "    </tr>\n",
       "    <tr>\n",
       "      <th>...</th>\n",
       "      <td>...</td>\n",
       "      <td>...</td>\n",
       "      <td>...</td>\n",
       "      <td>...</td>\n",
       "      <td>...</td>\n",
       "      <td>...</td>\n",
       "    </tr>\n",
       "    <tr>\n",
       "      <th>82</th>\n",
       "      <td>LIT killah, TULI - MALA SUERTE (Official Video)</td>\n",
       "      <td>514359</td>\n",
       "      <td>51016</td>\n",
       "      <td>1321</td>\n",
       "      <td>2024-11-08T22:00:07Z</td>\n",
       "      <td>['#MALASUERTE', '#TULI']</td>\n",
       "    </tr>\n",
       "    <tr>\n",
       "      <th>83</th>\n",
       "      <td>Pac-Man vs Kirby. Épicas Batallas de Rap del F...</td>\n",
       "      <td>428853</td>\n",
       "      <td>50316</td>\n",
       "      <td>4518</td>\n",
       "      <td>2024-11-07T20:00:06Z</td>\n",
       "      <td>[]</td>\n",
       "    </tr>\n",
       "    <tr>\n",
       "      <th>84</th>\n",
       "      <td>Valentino merlo, Salastkbron - Me voy (Officia...</td>\n",
       "      <td>713734</td>\n",
       "      <td>27106</td>\n",
       "      <td>1267</td>\n",
       "      <td>2024-11-07T23:00:08Z</td>\n",
       "      <td>[]</td>\n",
       "    </tr>\n",
       "    <tr>\n",
       "      <th>85</th>\n",
       "      <td>Lo Grande Que Es Perdonar (feat. Gilberto Sant...</td>\n",
       "      <td>680358</td>\n",
       "      <td>3230</td>\n",
       "      <td>30</td>\n",
       "      <td>2024-11-01T04:00:21Z</td>\n",
       "      <td>[]</td>\n",
       "    </tr>\n",
       "    <tr>\n",
       "      <th>86</th>\n",
       "      <td>Flor de Rap - Roncan feat Franco el Gorilla (V...</td>\n",
       "      <td>150053</td>\n",
       "      <td>11106</td>\n",
       "      <td>1534</td>\n",
       "      <td>2024-11-01T03:00:07Z</td>\n",
       "      <td>[]</td>\n",
       "    </tr>\n",
       "  </tbody>\n",
       "</table>\n",
       "<p>87 rows × 6 columns</p>\n",
       "</div>"
      ],
      "text/plain": [
       "                                               Titulo    Vistas   Likes  \\\n",
       "0   KAROL G, Feid, DFZM ft. Ovy On The Drums, J Ba...  15598352  883849   \n",
       "1   YoungBoy Never Broke Again - Sneaking [Officia...   1029066   75819   \n",
       "2   YoungBoy Never Broke Again - Killa Season [Off...   1164882   81449   \n",
       "3   YoungBoy Never Broke Again - Missing Everythin...   1132351   86119   \n",
       "4   YoungBoy Never Broke Again - Catch Me [Officia...    812399   55568   \n",
       "..                                                ...       ...     ...   \n",
       "82    LIT killah, TULI - MALA SUERTE (Official Video)    514359   51016   \n",
       "83  Pac-Man vs Kirby. Épicas Batallas de Rap del F...    428853   50316   \n",
       "84  Valentino merlo, Salastkbron - Me voy (Officia...    713734   27106   \n",
       "85  Lo Grande Que Es Perdonar (feat. Gilberto Sant...    680358    3230   \n",
       "86  Flor de Rap - Roncan feat Franco el Gorilla (V...    150053   11106   \n",
       "\n",
       "    Comentarios                 Fecha                      Tags  \n",
       "0         73874  2024-11-08T00:00:06Z                   ['#57']  \n",
       "1          3901  2024-11-08T03:41:23Z                        []  \n",
       "2          4392  2024-11-08T04:16:17Z                        []  \n",
       "3          6341  2024-11-08T02:20:12Z                        []  \n",
       "4          2963  2024-11-08T02:20:09Z                        []  \n",
       "..          ...                   ...                       ...  \n",
       "82         1321  2024-11-08T22:00:07Z  ['#MALASUERTE', '#TULI']  \n",
       "83         4518  2024-11-07T20:00:06Z                        []  \n",
       "84         1267  2024-11-07T23:00:08Z                        []  \n",
       "85           30  2024-11-01T04:00:21Z                        []  \n",
       "86         1534  2024-11-01T03:00:07Z                        []  \n",
       "\n",
       "[87 rows x 6 columns]"
      ]
     },
     "execution_count": 2,
     "metadata": {},
     "output_type": "execute_result"
    }
   ],
   "source": [
    "# Creamos un dataframe en conjunto para el análisis\n",
    "\n",
    "yt_chile = pd.read_csv(\"data/videos_chile.csv\")\n",
    "yt_global = pd.read_csv(\"data/videos_global.csv\")\n",
    "yt_eeuu = pd.read_csv(\"data/videos_eeuu.csv\")\n",
    "\n",
    "yt_merged = pd.concat([yt_global, yt_eeuu, yt_chile]).drop_duplicates().reset_index(drop=True)\n",
    "yt_merged\n"
   ]
  },
  {
   "cell_type": "code",
   "execution_count": 3,
   "metadata": {},
   "outputs": [
    {
     "data": {
      "text/plain": [
       "<Axes: xlabel='Vistas', ylabel='Likes'>"
      ]
     },
     "execution_count": 3,
     "metadata": {},
     "output_type": "execute_result"
    },
    {
     "data": {
      "image/png": "[encoded data removed]",
      "text/plain": [
       "<Figure size 640x480 with 1 Axes>"
      ]
     },
     "metadata": {},
     "output_type": "display_data"
    }
   ],
   "source": [
    "# Revisamos las correlaciones\n",
    "\n",
    "sns.scatterplot(x='Vistas', y='Likes', data=yt_merged)\n",
    "sns.scatterplot(x='Vistas', y='Comentarios', data=yt_merged)"
   ]
  },
  {
   "cell_type": "code",
   "execution_count": 4,
   "metadata": {},
   "outputs": [],
   "source": [
    "correlaciones = yt_merged[[\"Vistas\", \"Likes\", \"Comentarios\"]]\n",
    "\n",
    "#sns.pairplot(correlaciones)"
   ]
  },
  {
   "cell_type": "code",
   "execution_count": 5,
   "metadata": {},
   "outputs": [
    {
     "data": {
      "text/plain": [
       "<Axes: xlabel='Vistas', ylabel='Likes'>"
      ]
     },
     "execution_count": 5,
     "metadata": {},
     "output_type": "execute_result"
    },
    {
     "data": {
      "image/png": "[encoded data removed]",
      "text/plain": [
       "<Figure size 640x480 with 1 Axes>"
      ]
     },
     "metadata": {},
     "output_type": "display_data"
    }
   ],
   "source": [
    "# Quitamos los datos mayores puesto que hacen que el rango sea muy grande\n",
    "correlaciones = correlaciones[correlaciones[\"Comentarios\"] < 390972]\n",
    "correlaciones = correlaciones[correlaciones[\"Vistas\"] < 8515277]\n",
    "\n",
    "sns.scatterplot(x='Vistas', y='Likes', data=correlaciones)\n",
    "sns.scatterplot(x='Vistas', y='Comentarios', data=correlaciones)\n"
   ]
  },
  {
   "cell_type": "code",
   "execution_count": 6,
   "metadata": {},
   "outputs": [
    {
     "data": {
      "text/plain": [
       "<seaborn.axisgrid.PairGrid at 0x1d5c0b0e930>"
      ]
     },
     "execution_count": 6,
     "metadata": {},
     "output_type": "execute_result"
    },
    {
     "data": {
      "image/png": "[encoded data removed]",
      "text/plain": [
       "<Figure size 750x750 with 12 Axes>"
      ]
     },
     "metadata": {},
     "output_type": "display_data"
    }
   ],
   "source": [
    "sns.pairplot(correlaciones)"
   ]
  },
  {
   "cell_type": "code",
   "execution_count": 7,
   "metadata": {},
   "outputs": [
    {
     "data": {
      "text/plain": [
       "<Axes: >"
      ]
     },
     "execution_count": 7,
     "metadata": {},
     "output_type": "execute_result"
    },
    {
     "data": {
      "image/png": "[encoded data removed]",
      "text/plain": [
       "<Figure size 640x480 with 2 Axes>"
      ]
     },
     "metadata": {},
     "output_type": "display_data"
    }
   ],
   "source": [
    "sns.heatmap(correlaciones.corr(),annot=True)"
   ]
  },
  {
   "cell_type": "markdown",
   "metadata": {},
   "source": [
    "### 2. ¿La popularidad de una canción en otras plataformas como Spotify o Last.fm precede a su éxito en YouTube?"
   ]
  },
  {
   "cell_type": "code",
   "execution_count": 8,
   "metadata": {},
   "outputs": [],
   "source": [
    "# Para responder estas preguntas analizaremos cuantas peliculas están dentro de los dos dataframes\n",
    "\n",
    "sp_chile = pd.read_csv(\"data/spotify_chile.csv\")\n",
    "sp_global = pd.read_csv(\"data/spotify_global.csv\")\n",
    "sp_eeuu = pd.read_csv(\"data/spotify_eeuu.csv\")\n",
    "sp_merged = pd.concat([sp_global, sp_eeuu, sp_chile]).drop_duplicates().reset_index(drop=True)\n",
    "\n",
    "last_chile = pd.read_csv(\"data/last.fm_chile.csv\")\n",
    "last_global = pd.read_csv(\"data/last.fm_global.csv\")\n",
    "last_eeuu = pd.read_csv(\"data/last.fm_eeuu.csv\")\n",
    "last_merged = pd.concat([last_global, last_eeuu, last_chile]).drop_duplicates().reset_index(drop=True)"
   ]
  },
  {
   "cell_type": "code",
   "execution_count": 9,
   "metadata": {},
   "outputs": [
    {
     "data": {
      "text/html": [
       "<div>\n",
       "<style scoped>\n",
       "    .dataframe tbody tr th:only-of-type {\n",
       "        vertical-align: middle;\n",
       "    }\n",
       "\n",
       "    .dataframe tbody tr th {\n",
       "        vertical-align: top;\n",
       "    }\n",
       "\n",
       "    .dataframe thead th {\n",
       "        text-align: right;\n",
       "    }\n",
       "</style>\n",
       "<table border=\"1\" class=\"dataframe\">\n",
       "  <thead>\n",
       "    <tr style=\"text-align: right;\">\n",
       "      <th></th>\n",
       "      <th>Titulo</th>\n",
       "      <th>Artista</th>\n",
       "      <th>Popularidad</th>\n",
       "      <th>Generos</th>\n",
       "    </tr>\n",
       "  </thead>\n",
       "  <tbody>\n",
       "    <tr>\n",
       "      <th>0</th>\n",
       "      <td>That’s So True</td>\n",
       "      <td>Gracie Abrams</td>\n",
       "      <td>91</td>\n",
       "      <td>['alt z']</td>\n",
       "    </tr>\n",
       "    <tr>\n",
       "      <th>1</th>\n",
       "      <td>Die With A Smile</td>\n",
       "      <td>Lady Gaga</td>\n",
       "      <td>100</td>\n",
       "      <td>['art pop', 'dance pop', 'pop']</td>\n",
       "    </tr>\n",
       "    <tr>\n",
       "      <th>2</th>\n",
       "      <td>Sailor Song</td>\n",
       "      <td>Gigi Perez</td>\n",
       "      <td>93</td>\n",
       "      <td>['bedroom pop']</td>\n",
       "    </tr>\n",
       "    <tr>\n",
       "      <th>3</th>\n",
       "      <td>Sticky (feat. GloRilla, Sexyy Red &amp; Lil Wayne)</td>\n",
       "      <td>Tyler, The Creator</td>\n",
       "      <td>87</td>\n",
       "      <td>['hip hop', 'rap']</td>\n",
       "    </tr>\n",
       "    <tr>\n",
       "      <th>4</th>\n",
       "      <td>St. Chroma (feat. Daniel Caesar)</td>\n",
       "      <td>Tyler, The Creator</td>\n",
       "      <td>89</td>\n",
       "      <td>['hip hop', 'rap']</td>\n",
       "    </tr>\n",
       "    <tr>\n",
       "      <th>...</th>\n",
       "      <td>...</td>\n",
       "      <td>...</td>\n",
       "      <td>...</td>\n",
       "      <td>...</td>\n",
       "    </tr>\n",
       "    <tr>\n",
       "      <th>92</th>\n",
       "      <td>Soltera - W Sound 01</td>\n",
       "      <td>W Sound</td>\n",
       "      <td>82</td>\n",
       "      <td>[]</td>\n",
       "    </tr>\n",
       "    <tr>\n",
       "      <th>93</th>\n",
       "      <td>Ohnana</td>\n",
       "      <td>Kapo</td>\n",
       "      <td>85</td>\n",
       "      <td>[]</td>\n",
       "    </tr>\n",
       "    <tr>\n",
       "      <th>94</th>\n",
       "      <td>BEIA (Jere Klein)</td>\n",
       "      <td>Prod Millones</td>\n",
       "      <td>64</td>\n",
       "      <td>[]</td>\n",
       "    </tr>\n",
       "    <tr>\n",
       "      <th>95</th>\n",
       "      <td>Que Te Vaya Bien</td>\n",
       "      <td>Santaferia</td>\n",
       "      <td>66</td>\n",
       "      <td>['cumbia chilena']</td>\n",
       "    </tr>\n",
       "    <tr>\n",
       "      <th>96</th>\n",
       "      <td>PRINCESITA DE ...</td>\n",
       "      <td>Jere Klein</td>\n",
       "      <td>69</td>\n",
       "      <td>['reggaeton chileno']</td>\n",
       "    </tr>\n",
       "  </tbody>\n",
       "</table>\n",
       "<p>97 rows × 4 columns</p>\n",
       "</div>"
      ],
      "text/plain": [
       "                                            Titulo             Artista  \\\n",
       "0                                   That’s So True       Gracie Abrams   \n",
       "1                                 Die With A Smile           Lady Gaga   \n",
       "2                                      Sailor Song          Gigi Perez   \n",
       "3   Sticky (feat. GloRilla, Sexyy Red & Lil Wayne)  Tyler, The Creator   \n",
       "4                 St. Chroma (feat. Daniel Caesar)  Tyler, The Creator   \n",
       "..                                             ...                 ...   \n",
       "92                            Soltera - W Sound 01             W Sound   \n",
       "93                                          Ohnana                Kapo   \n",
       "94                               BEIA (Jere Klein)       Prod Millones   \n",
       "95                                Que Te Vaya Bien          Santaferia   \n",
       "96                               PRINCESITA DE ...          Jere Klein   \n",
       "\n",
       "    Popularidad                          Generos  \n",
       "0            91                        ['alt z']  \n",
       "1           100  ['art pop', 'dance pop', 'pop']  \n",
       "2            93                  ['bedroom pop']  \n",
       "3            87               ['hip hop', 'rap']  \n",
       "4            89               ['hip hop', 'rap']  \n",
       "..          ...                              ...  \n",
       "92           82                               []  \n",
       "93           85                               []  \n",
       "94           64                               []  \n",
       "95           66               ['cumbia chilena']  \n",
       "96           69            ['reggaeton chileno']  \n",
       "\n",
       "[97 rows x 4 columns]"
      ]
     },
     "execution_count": 9,
     "metadata": {},
     "output_type": "execute_result"
    }
   ],
   "source": [
    "sp_merged"
   ]
  },
  {
   "cell_type": "code",
   "execution_count": 10,
   "metadata": {},
   "outputs": [
    {
     "data": {
      "text/html": [
       "<div>\n",
       "<style scoped>\n",
       "    .dataframe tbody tr th:only-of-type {\n",
       "        vertical-align: middle;\n",
       "    }\n",
       "\n",
       "    .dataframe tbody tr th {\n",
       "        vertical-align: top;\n",
       "    }\n",
       "\n",
       "    .dataframe thead th {\n",
       "        text-align: right;\n",
       "    }\n",
       "</style>\n",
       "<table border=\"1\" class=\"dataframe\">\n",
       "  <thead>\n",
       "    <tr style=\"text-align: right;\">\n",
       "      <th></th>\n",
       "      <th>Titulo</th>\n",
       "      <th>Artista</th>\n",
       "      <th>Oyentes</th>\n",
       "      <th>Generos</th>\n",
       "    </tr>\n",
       "  </thead>\n",
       "  <tbody>\n",
       "    <tr>\n",
       "      <th>0</th>\n",
       "      <td>NOID</td>\n",
       "      <td>Tyler, the Creator</td>\n",
       "      <td>693375</td>\n",
       "      <td>['Psychedelic Rock', 'experimental hip hop', '...</td>\n",
       "    </tr>\n",
       "    <tr>\n",
       "      <th>1</th>\n",
       "      <td>Rah Tah Tah</td>\n",
       "      <td>Tyler, the Creator</td>\n",
       "      <td>665249</td>\n",
       "      <td>['hip hop', 'trap', 'wonky']</td>\n",
       "    </tr>\n",
       "    <tr>\n",
       "      <th>2</th>\n",
       "      <td>Good Luck, Babe!</td>\n",
       "      <td>Chappell Roan</td>\n",
       "      <td>1311176</td>\n",
       "      <td>['synthpop', 'pop rock', 'new wave']</td>\n",
       "    </tr>\n",
       "    <tr>\n",
       "      <th>3</th>\n",
       "      <td>Hey Jane</td>\n",
       "      <td>Tyler, the Creator</td>\n",
       "      <td>566042</td>\n",
       "      <td>['MySpotigramBot', 'hip hop', 'lounge']</td>\n",
       "    </tr>\n",
       "    <tr>\n",
       "      <th>4</th>\n",
       "      <td>BIRDS OF A FEATHER</td>\n",
       "      <td>Billie Eilish</td>\n",
       "      <td>1383092</td>\n",
       "      <td>['alt-pop', 'pop', 'Love']</td>\n",
       "    </tr>\n",
       "    <tr>\n",
       "      <th>...</th>\n",
       "      <td>...</td>\n",
       "      <td>...</td>\n",
       "      <td>...</td>\n",
       "      <td>...</td>\n",
       "    </tr>\n",
       "    <tr>\n",
       "      <th>142</th>\n",
       "      <td>Clint Eastwood</td>\n",
       "      <td>Gorillaz</td>\n",
       "      <td>2042511</td>\n",
       "      <td>['alternative', 'electronic', 'Hip-Hop']</td>\n",
       "    </tr>\n",
       "    <tr>\n",
       "      <th>143</th>\n",
       "      <td>Bohemian Rhapsody - Remastered 2011</td>\n",
       "      <td>Queen</td>\n",
       "      <td>1203931</td>\n",
       "      <td>['hard rock', 'Progressive rock', 'rock']</td>\n",
       "    </tr>\n",
       "    <tr>\n",
       "      <th>144</th>\n",
       "      <td>Even Flow</td>\n",
       "      <td>Pearl Jam</td>\n",
       "      <td>1469132</td>\n",
       "      <td>['Grunge', 'rock', 'alternative rock']</td>\n",
       "    </tr>\n",
       "    <tr>\n",
       "      <th>145</th>\n",
       "      <td>Zombie</td>\n",
       "      <td>The Cranberries</td>\n",
       "      <td>2129658</td>\n",
       "      <td>['rock', 'alternative', '90s']</td>\n",
       "    </tr>\n",
       "    <tr>\n",
       "      <th>146</th>\n",
       "      <td>Sex on Fire</td>\n",
       "      <td>Kings of Leon</td>\n",
       "      <td>2277331</td>\n",
       "      <td>['rock', 'indie rock', 'alternative']</td>\n",
       "    </tr>\n",
       "  </tbody>\n",
       "</table>\n",
       "<p>147 rows × 4 columns</p>\n",
       "</div>"
      ],
      "text/plain": [
       "                                  Titulo             Artista  Oyentes  \\\n",
       "0                                   NOID  Tyler, the Creator   693375   \n",
       "1                            Rah Tah Tah  Tyler, the Creator   665249   \n",
       "2                       Good Luck, Babe!       Chappell Roan  1311176   \n",
       "3                               Hey Jane  Tyler, the Creator   566042   \n",
       "4                     BIRDS OF A FEATHER       Billie Eilish  1383092   \n",
       "..                                   ...                 ...      ...   \n",
       "142                       Clint Eastwood            Gorillaz  2042511   \n",
       "143  Bohemian Rhapsody - Remastered 2011               Queen  1203931   \n",
       "144                            Even Flow           Pearl Jam  1469132   \n",
       "145                               Zombie     The Cranberries  2129658   \n",
       "146                          Sex on Fire       Kings of Leon  2277331   \n",
       "\n",
       "                                               Generos  \n",
       "0    ['Psychedelic Rock', 'experimental hip hop', '...  \n",
       "1                         ['hip hop', 'trap', 'wonky']  \n",
       "2                 ['synthpop', 'pop rock', 'new wave']  \n",
       "3              ['MySpotigramBot', 'hip hop', 'lounge']  \n",
       "4                           ['alt-pop', 'pop', 'Love']  \n",
       "..                                                 ...  \n",
       "142           ['alternative', 'electronic', 'Hip-Hop']  \n",
       "143          ['hard rock', 'Progressive rock', 'rock']  \n",
       "144             ['Grunge', 'rock', 'alternative rock']  \n",
       "145                     ['rock', 'alternative', '90s']  \n",
       "146              ['rock', 'indie rock', 'alternative']  \n",
       "\n",
       "[147 rows x 4 columns]"
      ]
     },
     "execution_count": 10,
     "metadata": {},
     "output_type": "execute_result"
    }
   ],
   "source": [
    "last_merged"
   ]
  },
  {
   "cell_type": "markdown",
   "metadata": {},
   "source": [
    "### 3. ¿Qué géneros musicales generan más interacciones en YouTube, y cómo esto se relaciona con las tendencias de escucha en Spotify o Last.fm?"
   ]
  },
  {
   "cell_type": "code",
   "execution_count": 22,
   "metadata": {},
   "outputs": [
    {
     "data": {
      "text/html": [
       "<div>\n",
       "<style scoped>\n",
       "    .dataframe tbody tr th:only-of-type {\n",
       "        vertical-align: middle;\n",
       "    }\n",
       "\n",
       "    .dataframe tbody tr th {\n",
       "        vertical-align: top;\n",
       "    }\n",
       "\n",
       "    .dataframe thead th {\n",
       "        text-align: right;\n",
       "    }\n",
       "</style>\n",
       "<table border=\"1\" class=\"dataframe\">\n",
       "  <thead>\n",
       "    <tr style=\"text-align: right;\">\n",
       "      <th></th>\n",
       "      <th>Género</th>\n",
       "      <th>Vistas</th>\n",
       "      <th>Likes</th>\n",
       "      <th>Comentarios</th>\n",
       "    </tr>\n",
       "  </thead>\n",
       "  <tbody>\n",
       "    <tr>\n",
       "      <th>0</th>\n",
       "      <td>Otros</td>\n",
       "      <td>681165427</td>\n",
       "      <td>20266563</td>\n",
       "      <td>1205653</td>\n",
       "    </tr>\n",
       "    <tr>\n",
       "      <th>1</th>\n",
       "      <td>Rock</td>\n",
       "      <td>2928352</td>\n",
       "      <td>150038</td>\n",
       "      <td>4297</td>\n",
       "    </tr>\n",
       "  </tbody>\n",
       "</table>\n",
       "</div>"
      ],
      "text/plain": [
       "  Género     Vistas     Likes  Comentarios\n",
       "0  Otros  681165427  20266563      1205653\n",
       "1   Rock    2928352    150038         4297"
      ]
     },
     "execution_count": 22,
     "metadata": {},
     "output_type": "execute_result"
    }
   ],
   "source": [
    "# Función para identificar géneros en Tags\n",
    "def identificar_genero(tags):\n",
    "    generos = ['Pop', 'Rock', 'Reggaetón', 'Hip-Hop', 'Electrónica', 'Country', 'Jazz']\n",
    "    for genero in generos:\n",
    "        if genero.lower() in tags.lower():\n",
    "            return genero\n",
    "    return 'Otros'\n",
    "\n",
    "# Crear columna Género en yt_merged\n",
    "yt_merged['Género'] = yt_merged['Tags'].apply(identificar_genero)\n",
    "\n",
    "# Agrupar por género y calcular métricas totales\n",
    "yt_genres = yt_merged.groupby('Género')[['Vistas', 'Likes', 'Comentarios']].sum().reset_index()\n",
    "yt_genres\n"
   ]
  },
  {
   "cell_type": "code",
   "execution_count": 23,
   "metadata": {},
   "outputs": [],
   "source": [
    "# Extraer géneros de YouTube\n",
    "yt_merged['Género'] = yt_merged['Tags'].apply(identificar_genero)\n",
    "\n",
    "# Agrupar por género y sumar métricas de interacción\n",
    "yt_genres = yt_merged.groupby('Género')[['Vistas', 'Likes', 'Comentarios']].sum().reset_index()\n"
   ]
  },
  {
   "cell_type": "code",
   "execution_count": 24,
   "metadata": {},
   "outputs": [],
   "source": [
    "sp_genres = sp_merged.groupby('Generos')[['Popularidad']].sum().reset_index()"
   ]
  },
  {
   "cell_type": "code",
   "execution_count": 25,
   "metadata": {},
   "outputs": [],
   "source": [
    "last_genres = last_merged.groupby('Generos')[['Oyentes']].sum().reset_index()"
   ]
  },
  {
   "cell_type": "code",
   "execution_count": 26,
   "metadata": {},
   "outputs": [
    {
     "data": {
      "text/html": [
       "<div>\n",
       "<style scoped>\n",
       "    .dataframe tbody tr th:only-of-type {\n",
       "        vertical-align: middle;\n",
       "    }\n",
       "\n",
       "    .dataframe tbody tr th {\n",
       "        vertical-align: top;\n",
       "    }\n",
       "\n",
       "    .dataframe thead th {\n",
       "        text-align: right;\n",
       "    }\n",
       "</style>\n",
       "<table border=\"1\" class=\"dataframe\">\n",
       "  <thead>\n",
       "    <tr style=\"text-align: right;\">\n",
       "      <th></th>\n",
       "      <th>Género</th>\n",
       "      <th>Vistas</th>\n",
       "      <th>Likes</th>\n",
       "      <th>Comentarios</th>\n",
       "      <th>Generos_x</th>\n",
       "      <th>Popularidad</th>\n",
       "      <th>Generos_y</th>\n",
       "      <th>Oyentes</th>\n",
       "    </tr>\n",
       "  </thead>\n",
       "  <tbody>\n",
       "    <tr>\n",
       "      <th>0</th>\n",
       "      <td>Otros</td>\n",
       "      <td>681165427.0</td>\n",
       "      <td>20266563.0</td>\n",
       "      <td>1205653.0</td>\n",
       "      <td>0</td>\n",
       "      <td>0.0</td>\n",
       "      <td>0</td>\n",
       "      <td>0.0</td>\n",
       "    </tr>\n",
       "    <tr>\n",
       "      <th>1</th>\n",
       "      <td>Rock</td>\n",
       "      <td>2928352.0</td>\n",
       "      <td>150038.0</td>\n",
       "      <td>4297.0</td>\n",
       "      <td>0</td>\n",
       "      <td>0.0</td>\n",
       "      <td>0</td>\n",
       "      <td>0.0</td>\n",
       "    </tr>\n",
       "    <tr>\n",
       "      <th>2</th>\n",
       "      <td>0</td>\n",
       "      <td>0.0</td>\n",
       "      <td>0.0</td>\n",
       "      <td>0.0</td>\n",
       "      <td>0</td>\n",
       "      <td>0.0</td>\n",
       "      <td>['80s', 'classic rock', 'rock']</td>\n",
       "      <td>1748226.0</td>\n",
       "    </tr>\n",
       "    <tr>\n",
       "      <th>3</th>\n",
       "      <td>0</td>\n",
       "      <td>0.0</td>\n",
       "      <td>0.0</td>\n",
       "      <td>0.0</td>\n",
       "      <td>0</td>\n",
       "      <td>0.0</td>\n",
       "      <td>['80s', 'electronic', 'new wave']</td>\n",
       "      <td>1600456.0</td>\n",
       "    </tr>\n",
       "    <tr>\n",
       "      <th>4</th>\n",
       "      <td>0</td>\n",
       "      <td>0.0</td>\n",
       "      <td>0.0</td>\n",
       "      <td>0.0</td>\n",
       "      <td>0</td>\n",
       "      <td>0.0</td>\n",
       "      <td>['80s', 'new wave', 'alternative']</td>\n",
       "      <td>5394925.0</td>\n",
       "    </tr>\n",
       "  </tbody>\n",
       "</table>\n",
       "</div>"
      ],
      "text/plain": [
       "  Género       Vistas       Likes  Comentarios Generos_x  Popularidad  \\\n",
       "0  Otros  681165427.0  20266563.0    1205653.0         0          0.0   \n",
       "1   Rock    2928352.0    150038.0       4297.0         0          0.0   \n",
       "2      0          0.0         0.0          0.0         0          0.0   \n",
       "3      0          0.0         0.0          0.0         0          0.0   \n",
       "4      0          0.0         0.0          0.0         0          0.0   \n",
       "\n",
       "                            Generos_y    Oyentes  \n",
       "0                                   0        0.0  \n",
       "1                                   0        0.0  \n",
       "2     ['80s', 'classic rock', 'rock']  1748226.0  \n",
       "3   ['80s', 'electronic', 'new wave']  1600456.0  \n",
       "4  ['80s', 'new wave', 'alternative']  5394925.0  "
      ]
     },
     "execution_count": 26,
     "metadata": {},
     "output_type": "execute_result"
    }
   ],
   "source": [
    "# Combinar datos de YouTube y Spotify\n",
    "yt_sp_combined = pd.merge(yt_genres, sp_genres, how='outer', left_on='Género', right_on='Generos')\n",
    "\n",
    "# Combinar con datos de Last.fm\n",
    "merged_genres = pd.merge(yt_sp_combined, last_genres, how='outer', left_on='Género', right_on='Generos')\n",
    "\n",
    "merged_genres = merged_genres.fillna(0)  \n",
    "merged_genres.head()\n"
   ]
  },
  {
   "cell_type": "markdown",
   "metadata": {},
   "source": [
    "### 4. ¿Cuál es la relación entre el número de visualizaciones en YouTube y la popularidad en Spotify? ¿A qué se debe?"
   ]
  },
  {
   "cell_type": "markdown",
   "metadata": {},
   "source": [
    "### 5. ¿Cómo varía la tendencia de videos populares según la región?¿Y cómo esto refleja la cultura musical del país?"
   ]
  },
  {
   "cell_type": "markdown",
   "metadata": {},
   "source": [
    "### 6. ¿Hay patrones de días u horarios en que se suben los videos más exitosos?"
   ]
  },
  {
   "cell_type": "markdown",
   "metadata": {},
   "source": []
  },
  {
   "cell_type": "markdown",
   "metadata": {},
   "source": []
  },
  {
   "cell_type": "markdown",
   "metadata": {},
   "source": [
    "## Analisis de datos"
   ]
  },
  {
   "cell_type": "code",
   "execution_count": 9,
   "metadata": {},
   "outputs": [
    {
     "name": "stdout",
     "output_type": "stream",
     "text": [
      "pene\n",
      "hola\n",
      "slkjfklsjfkjsfjklsjksjfk\n"
     ]
    }
   ],
   "source": [
    "print(\"pene\")\n",
    "print('hola')\n",
    "print(\"slkjfklsjfkjsfjklsjksjfk\")"
   ]
  },
  {
   "cell_type": "markdown",
   "metadata": {},
   "source": []
  },
  {
   "cell_type": "markdown",
   "metadata": {},
   "source": []
  },
  {
   "cell_type": "markdown",
   "metadata": {},
   "source": [
    "## Resumen de los resusltados"
   ]
  },
  {
   "cell_type": "markdown",
   "metadata": {},
   "source": []
  },
  {
   "cell_type": "markdown",
   "metadata": {},
   "source": []
  },
  {
   "cell_type": "markdown",
   "metadata": {},
   "source": [
    "## ¿Qué podría salir mal?"
   ]
  },
  {
   "cell_type": "markdown",
   "metadata": {},
   "source": []
  },
  {
   "cell_type": "markdown",
   "metadata": {},
   "source": []
  }
 ],
 "metadata": {
  "kernelspec": {
   "display_name": "Python 3 (ipykernel)",
   "language": "python",
   "name": "python3"
  },
  "language_info": {
   "codemirror_mode": {
    "name": "ipython",
    "version": 3
   },
   "file_extension": ".py",
   "mimetype": "text/x-python",
   "name": "python",
   "nbconvert_exporter": "python",
   "pygments_lexer": "ipython3",
   "version": "3.12.4"
  }
 },
 "nbformat": 4,
 "nbformat_minor": 4
}
