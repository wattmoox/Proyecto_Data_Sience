{
 "cells": [
  {
   "cell_type": "markdown",
   "metadata": {
    "vscode": {
     "languageId": "plaintext"
    }
   },
   "source": [
    "## Código para obtener bases de datos de spotify"
   ]
  },
  {
   "cell_type": "code",
   "execution_count": 1,
   "metadata": {},
   "outputs": [],
   "source": [
    "import csv\n",
    "import spotipy\n",
    "from spotipy.oauth2 import SpotifyClientCredentials"
   ]
  },
  {
   "cell_type": "code",
   "execution_count": 2,
   "metadata": {},
   "outputs": [],
   "source": [
    "client_id = \"43c1aefc29484fab8b76593469ab4c44\"\n",
    "client_secret = \"df001dead9514c7e8f65ab4dbfaee2ba\""
   ]
  },
  {
   "cell_type": "code",
   "execution_count": 3,
   "metadata": {},
   "outputs": [],
   "source": [
    "# Autenticación\n",
    "manager = SpotifyClientCredentials(client_id=client_id, client_secret=client_secret)\n",
    "sp = spotipy.Spotify(client_credentials_manager=manager)"
   ]
  },
  {
   "cell_type": "code",
   "execution_count": 4,
   "metadata": {},
   "outputs": [],
   "source": [
    "def get_song_genres(song_name):\n",
    "    # Buscar la canción en Spotify\n",
    "    results = sp.search(q=song_name, type='track', limit=1)\n",
    "    \n",
    "    # Si se encontró la canción, obtener el género del artista\n",
    "    if results['tracks']['items']:\n",
    "        track = results['tracks']['items'][0]\n",
    "        artist = track['artists'][0]['uri']\n",
    "        artist_genres = sp.artist(artist)[\"genres\"]\n",
    "        return artist_genres\n",
    "    else:\n",
    "        return \"Unknown\"\n",
    "\n",
    "def get_artist_genres(artist):\n",
    "    # Buscar el género del artista en la API de Spotify\n",
    "    artist_results = sp.search(q=artist, type='artist', limit=1)\n",
    "    if artist_results['artists']['items']:\n",
    "        artist = artist_results['artists']['items'][0]\n",
    "        genres = artist['genres']\n",
    "        if genres:\n",
    "            return genres[0]\n",
    "        \n",
    "        else:\n",
    "            return \"Unknown\"\n",
    "    else:\n",
    "        return \"Unknown\"\n"
   ]
  },
  {
   "cell_type": "markdown",
   "metadata": {},
   "source": [
    "## 1. Obtener el Top 50 de Chile"
   ]
  },
  {
   "cell_type": "code",
   "execution_count": 5,
   "metadata": {},
   "outputs": [
    {
     "name": "stdout",
     "output_type": "stream",
     "text": [
      "Top 50: Chile\n"
     ]
    }
   ],
   "source": [
    "region = 'Chile'\n",
    "results = sp.search(q=f'top 50: {region}', type='track', limit=50) # market='US'\n",
    "\n",
    "nombres = []\n",
    "artistas = []\n",
    "popularidades = []\n",
    "generos = []\n",
    "\n",
    "# Imprimir los resultados\n",
    "print(f\"Top 50: {region}\")\n",
    "for track in results['tracks']['items']:\n",
    "    nombre = track['name']\n",
    "    artista = track['artists'][0]['name']\n",
    "    popularity = track['popularity']\n",
    "    artist_genres = list(sp.artist(track['artists'][0][\"uri\"])[\"genres\"])\n",
    "\n",
    "    nombres.append(nombre)\n",
    "    artistas.append(artista)\n",
    "    popularidades.append(popularity)\n",
    "    generos.append(artist_genres)\n",
    "\n",
    "    #print(f\"{track['name']}, {track['artists'][0]['name']}, (Popularidad: {track['popularity']})\")\n",
    "    #print(album_genres)"
   ]
  },
  {
   "cell_type": "code",
   "execution_count": 6,
   "metadata": {},
   "outputs": [],
   "source": [
    "# Crear el archivo CSV\n",
    "with open('spotify_chile.csv', 'w', newline='', encoding=\"utf-8\") as csvfile:\n",
    "    writer = csv.writer(csvfile)\n",
    "    writer.writerow(['Titulo', 'Artista', 'Popularidad', 'Generos'])\n",
    "    for row in zip(nombres, artistas, popularidades, generos):\n",
    "        writer.writerow(row)"
   ]
  },
  {
   "cell_type": "markdown",
   "metadata": {},
   "source": [
    "## 2. Obtener el Top 5: Global"
   ]
  },
  {
   "cell_type": "code",
   "execution_count": 7,
   "metadata": {},
   "outputs": [
    {
     "name": "stdout",
     "output_type": "stream",
     "text": [
      "Top 50: Global\n"
     ]
    }
   ],
   "source": [
    "region = 'Global'\n",
    "results = sp.search(q=f'top 50: {region}', type='track', limit=50) # market='US'\n",
    "\n",
    "nombres = []\n",
    "artistas = []\n",
    "popularidades = []\n",
    "generos = []\n",
    "\n",
    "# Imprimir los resultados\n",
    "print(f\"Top 50: {region}\")\n",
    "for track in results['tracks']['items']:\n",
    "    nombre = track['name']\n",
    "    artista = track['artists'][0]['name']\n",
    "    popularity = track['popularity']\n",
    "    artist_genres = list(sp.artist(track['artists'][0][\"uri\"])[\"genres\"])\n",
    "\n",
    "    nombres.append(nombre)\n",
    "    artistas.append(artista)\n",
    "    popularidades.append(popularity)\n",
    "    generos.append(artist_genres)\n",
    "\n",
    "    #print(f\"{track['name']}, {track['artists'][0]['name']}, (Popularidad: {track['popularity']})\")\n",
    "    #print(album_genres)"
   ]
  },
  {
   "cell_type": "code",
   "execution_count": 8,
   "metadata": {},
   "outputs": [],
   "source": [
    "# Crear el archivo CSV\n",
    "with open('spotify_global.csv', 'w', newline='', encoding=\"utf-8\") as csvfile:\n",
    "    writer = csv.writer(csvfile)\n",
    "    writer.writerow(['Titulo', 'Artista', 'Popularidad', 'Generos'])\n",
    "    for row in zip(nombres, artistas, popularidades, generos):\n",
    "        writer.writerow(row)"
   ]
  }
 ],
 "metadata": {
  "kernelspec": {
   "display_name": "base",
   "language": "python",
   "name": "python3"
  },
  "language_info": {
   "codemirror_mode": {
    "name": "ipython",
    "version": 3
   },
   "file_extension": ".py",
   "mimetype": "text/x-python",
   "name": "python",
   "nbconvert_exporter": "python",
   "pygments_lexer": "ipython3",
   "version": "3.12.4"
  }
 },
 "nbformat": 4,
 "nbformat_minor": 2
}
