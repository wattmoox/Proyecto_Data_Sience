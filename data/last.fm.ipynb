{
 "cells": [
  {
   "cell_type": "code",
   "execution_count": 1,
   "metadata": {},
   "outputs": [],
   "source": [
    "import requests\n",
    "import csv"
   ]
  },
  {
   "cell_type": "code",
   "execution_count": 2,
   "metadata": {},
   "outputs": [],
   "source": [
    "# Tu API Key de Last.fm\n",
    "API_KEY = 'de8576d7f905d655c7538c910b510f67'\n",
    "BASE_URL = 'http://ws.audioscrobbler.com/2.0/'\n",
    "\n",
    "# Paso 1: Obtener las 50 canciones más populares\n",
    "def get_top_tracks(limit=50):\n",
    "    params = {\n",
    "        'method': 'geo.getTopTracks',\n",
    "        'api_key': API_KEY,\n",
    "        'format': 'json',\n",
    "        'limit': limit, \n",
    "        \"country\": \"Chile\"\n",
    "    }\n",
    "    response = requests.get(BASE_URL, params=params)\n",
    "    return response.json().get('tracks', {}).get('track', [])\n",
    "\n",
    "# Paso 2: Obtener los géneros (etiquetas) principales de una canción específica\n",
    "def get_track_tags(artist, track):\n",
    "    params = {\n",
    "        'method': 'track.getTopTags',\n",
    "        'artist': artist,\n",
    "        'track': track,\n",
    "        'api_key': API_KEY,\n",
    "        'format': 'json'\n",
    "    }\n",
    "    response = requests.get(BASE_URL, params=params)\n",
    "\n",
    "    tags = response.json().get('toptags', {}).get('tag', [])\n",
    "    # Extraemos solo los nombres de los géneros\n",
    "    return [tag['name'] for tag in tags][:3]  # Los primeros 3 géneros\n",
    "\n",
    "# Paso 3: Obtener las 50 canciones más populares y sus detalles\n",
    "\n",
    "tracks = get_top_tracks()\n",
    "\n",
    "nombres = []\n",
    "artistas = []\n",
    "oyentes = []\n",
    "generos = []\n",
    "\n",
    "for track in tracks:\n",
    "    track_name = track['name']\n",
    "    artist_name = track['artist']['name']\n",
    "    listeners = track['listeners']  # Popularidad medida en cantidad de oyentes\n",
    "\n",
    "    # Obtenemos los géneros de cada canción\n",
    "    genres = get_track_tags(artist_name, track_name)\n",
    "\n",
    "    nombres.append(track_name)\n",
    "    artistas.append(artist_name)\n",
    "    oyentes.append(listeners)\n",
    "    generos.append(genres)\n"
   ]
  },
  {
   "cell_type": "code",
   "execution_count": 3,
   "metadata": {},
   "outputs": [],
   "source": [
    "# Crear el archivo CSV\n",
    "with open('last.fm_chile.csv', 'w', newline='', encoding=\"utf-8\") as csvfile:\n",
    "    writer = csv.writer(csvfile)\n",
    "    writer.writerow(['Titulo', 'Artista', 'Oyentes', 'Generos'])\n",
    "    for row in zip(nombres, artistas, oyentes, generos):\n",
    "        writer.writerow(row)"
   ]
  },
  {
   "cell_type": "markdown",
   "metadata": {},
   "source": [
    "## Global"
   ]
  },
  {
   "cell_type": "code",
   "execution_count": 4,
   "metadata": {},
   "outputs": [],
   "source": [
    "# Tu API Key de Last.fm\n",
    "API_KEY = 'de8576d7f905d655c7538c910b510f67'\n",
    "BASE_URL = 'http://ws.audioscrobbler.com/2.0/'\n",
    "\n",
    "# Paso 1: Obtener las 50 canciones más populares\n",
    "def get_top_tracks(limit=50):\n",
    "    params = {\n",
    "        'method': 'chart.getTopTracks',\n",
    "        'api_key': API_KEY,\n",
    "        'format': 'json',\n",
    "        'limit': limit, \n",
    "    }\n",
    "    response = requests.get(BASE_URL, params=params)\n",
    "    return response.json().get('tracks', {}).get('track', [])\n",
    "\n",
    "# Paso 2: Obtener los géneros (etiquetas) principales de una canción específica\n",
    "def get_track_tags(artist, track):\n",
    "    params = {\n",
    "        'method': 'track.getTopTags',\n",
    "        'artist': artist,\n",
    "        'track': track,\n",
    "        'api_key': API_KEY,\n",
    "        'format': 'json'\n",
    "    }\n",
    "    response = requests.get(BASE_URL, params=params)\n",
    "\n",
    "    tags = response.json().get('toptags', {}).get('tag', [])\n",
    "    # Extraemos solo los nombres de los géneros\n",
    "    return [tag['name'] for tag in tags][:3]  # Los primeros 3 géneros\n",
    "\n",
    "# Paso 3: Obtener las 50 canciones más populares y sus detalles\n",
    "\n",
    "tracks = get_top_tracks()\n",
    "\n",
    "nombres = []\n",
    "artistas = []\n",
    "oyentes = []\n",
    "generos = []\n",
    "\n",
    "for track in tracks:\n",
    "    track_name = track['name']\n",
    "    artist_name = track['artist']['name']\n",
    "    listeners = track['listeners']  # Popularidad medida en cantidad de oyentes\n",
    "\n",
    "    # Obtenemos los géneros de cada canción\n",
    "    genres = get_track_tags(artist_name, track_name)\n",
    "\n",
    "    nombres.append(track_name)\n",
    "    artistas.append(artist_name)\n",
    "    oyentes.append(listeners)\n",
    "    generos.append(genres)\n"
   ]
  },
  {
   "cell_type": "code",
   "execution_count": 5,
   "metadata": {},
   "outputs": [],
   "source": [
    "# Crear el archivo CSV\n",
    "with open('last.fm_global.csv', 'w', newline='', encoding=\"utf-8\") as csvfile:\n",
    "    writer = csv.writer(csvfile)\n",
    "    writer.writerow(['Titulo', 'Artista', 'Oyentes', 'Generos'])\n",
    "    for row in zip(nombres, artistas, oyentes, generos):\n",
    "        writer.writerow(row)"
   ]
  }
 ],
 "metadata": {
  "kernelspec": {
   "display_name": "base",
   "language": "python",
   "name": "python3"
  },
  "language_info": {
   "codemirror_mode": {
    "name": "ipython",
    "version": 3
   },
   "file_extension": ".py",
   "mimetype": "text/x-python",
   "name": "python",
   "nbconvert_exporter": "python",
   "pygments_lexer": "ipython3",
   "version": "3.12.4"
  }
 },
 "nbformat": 4,
 "nbformat_minor": 2
}
